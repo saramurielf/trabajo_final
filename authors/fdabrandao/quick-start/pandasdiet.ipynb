{
  "cells": [
    {
      "cell_type": "markdown",
      "metadata": {
        "id": "view-in-github",
        "colab_type": "text"
      },
      "source": [
        "<a href=\"https://colab.research.google.com/github/saramurielf/trabajo_final/blob/main/authors/fdabrandao/quick-start/pandasdiet.ipynb\" target=\"_parent\"><img src=\"https://colab.research.google.com/assets/colab-badge.svg\" alt=\"Open In Colab\"/></a>"
      ]
    },
    {
      "cell_type": "code",
      "execution_count": 201,
      "metadata": {
        "id": "N_yOBcbj3Ozx"
      },
      "outputs": [],
      "source": [
        "# Install dependencies\n",
        "%pip install -q amplpy pandas numpy"
      ]
    },
    {
      "cell_type": "code",
      "execution_count": 202,
      "metadata": {
        "colab": {
          "base_uri": "https://localhost:8080/"
        },
        "id": "YZotGiKU3RZY",
        "outputId": "23946811-d392-4665-cc94-58d05542ea90"
      },
      "outputs": [
        {
          "output_type": "stream",
          "name": "stdout",
          "text": [
            "Using default Community Edition License for Colab. Get yours at: https://ampl.com/ce\n",
            "Licensed to AMPL Community Edition License for the AMPL Model Colaboratory (https://ampl.com/colab).\n"
          ]
        }
      ],
      "source": [
        "# Google Colab & Kaggle integration\n",
        "from amplpy import AMPL, ampl_notebook\n",
        "\n",
        "ampl = ampl_notebook(\n",
        "    modules=[\"highs\"],  # modules to install\n",
        "    license_uuid=\"default\",  # license to use\n",
        ")  # instantiate AMPL object and register magics"
      ]
    },
    {
      "cell_type": "code",
      "metadata": {
        "id": "d7fdcfc9",
        "colab": {
          "base_uri": "https://localhost:8080/"
        },
        "outputId": "dabfd375-a706-417f-88b4-701c93ce26ca"
      },
      "source": [
        "%%writefile modelo.mod\n",
        "# Modelo de transporte de gasolina y gas\n",
        "\n",
        "set P;  # Plantas de producción\n",
        "set D;  # Centros de distribución\n",
        "set R;  # Regiones de demanda\n",
        "set K;  # Tipos de productos (g: gasolina, s: gas)\n",
        "\n",
        "param tarifa {K};  # Tarifa por producto en USD/km·hl\n",
        "param dist_PD {P, D};  # Distancia entre planta y centro (km)\n",
        "param dist_DR {D, R};  # Distancia entre centro y región (km)\n",
        "\n",
        "param demanda {R, K};  # Demanda por región y producto (hl)\n",
        "param capacidad_planta {P, K};  # Capacidad de producción por planta y producto\n",
        "param capacidad_centro {D};  # Capacidad total de cada centro (hl)\n",
        "\n",
        "# Variables de decisión\n",
        "var X {P, D, K} >= 0;  # Volumen enviado de planta a centro\n",
        "var Y {D, R, K} >= 0;  # Volumen enviado de centro a región\n",
        "\n",
        "# Función objetivo: minimizar el costo total de transporte\n",
        "minimize CostoTotal:\n",
        "    sum {p in P, d in D, k in K} tarifa[k] * dist_PD[p,d] * X[p,d,k]\n",
        "  + sum {d in D, r in R, k in K} tarifa[k] * dist_DR[d,r] * Y[d,r,k];\n",
        "\n",
        "# Restricción 1: Satisfacer demanda en cada región por producto\n",
        "subject to SatisfacerDemanda {r in R, k in K}:\n",
        "    sum {d in D} Y[d,r,k] = demanda[r,k];\n",
        "\n",
        "# Restricción 2: No exceder capacidad de planta\n",
        "subject to CapacidadPlanta {p in P, k in K}:\n",
        "    sum {d in D} X[p,d,k] <= capacidad_planta[p,k];\n",
        "\n",
        "# Restricción 3: No exceder capacidad total del centro\n",
        "subject to CapacidadCentro {d in D}:\n",
        "    sum {r in R, k in K} Y[d,r,k] <= capacidad_centro[d];\n",
        "\n",
        "# Restricción 4: Balance de flujo por producto en cada centro\n",
        "subject to BalanceCentro {d in D, k in K}:\n",
        "    sum {p in P} X[p,d,k] = sum {r in R} Y[d,r,k];"
      ],
      "execution_count": 203,
      "outputs": [
        {
          "output_type": "stream",
          "name": "stdout",
          "text": [
            "Overwriting modelo.mod\n"
          ]
        }
      ]
    },
    {
      "cell_type": "code",
      "metadata": {
        "id": "04ce66ff",
        "colab": {
          "base_uri": "https://localhost:8080/"
        },
        "outputId": "d5ee23a9-54d2-4b8c-d580-89d17ce350a9"
      },
      "source": [
        "%%writefile datos.dat\n",
        "data;\n",
        "\n",
        "# Conjuntos\n",
        "set P := P1 P2;\n",
        "set D := D1 D2 D3;\n",
        "set R := R1 R2 R3;\n",
        "set K := g s;\n",
        "\n",
        "# Tarifas (USD/km·hl)\n",
        "param tarifa :=\n",
        "    g 0.67\n",
        "    s 0.82;\n",
        "\n",
        "# Distancia planta–centro (km)\n",
        "param dist_PD : D1 D2 D3 :=\n",
        "    P1   120  200  150\n",
        "    P2   100  180  170;\n",
        "\n",
        "# Distancia centro–región (km)\n",
        "param dist_DR : R1 R2 R3 :=\n",
        "    D1   80   90  100\n",
        "    D2   70   60   85\n",
        "    D3   60   75   95;\n",
        "\n",
        "# Demanda por región y producto (hl)\n",
        "param demanda :=\n",
        "    [R1, *]  g 500   s 300\n",
        "    [R2, *]  g 400   s 200\n",
        "    [R3, *]  g 600   s 250;\n",
        "\n",
        "# Capacidad de planta por producto (hl)\n",
        "param capacidad_planta :=\n",
        "    [P1, *]  g 1000  s 500\n",
        "    [P2, *]  g 800   s 600;\n",
        "\n",
        "# Capacidad de operación por centro (hl)\n",
        "param capacidad_centro :=\n",
        "    D1 1500\n",
        "    D2 1200\n",
        "    D3 1000;"
      ],
      "execution_count": 204,
      "outputs": [
        {
          "output_type": "stream",
          "name": "stdout",
          "text": [
            "Overwriting datos.dat\n"
          ]
        }
      ]
    },
    {
      "cell_type": "code",
      "source": [
        "ampl.read('modelo.mod');\n",
        "ampl.read_data('datos.dat');\n",
        "ampl.option['solver'] = 'highs';\n",
        "ampl.solve();"
      ],
      "metadata": {
        "colab": {
          "base_uri": "https://localhost:8080/"
        },
        "id": "3_P9b9mYxKW-",
        "outputId": "51349cb0-ee76-4e28-b5a0-b2c73a2e6da7"
      },
      "execution_count": 205,
      "outputs": [
        {
          "output_type": "stream",
          "name": "stdout",
          "text": [
            "HiGHS 1.10.0: \b\b\b\b\b\b\b\b\b\b\b\b\b\bHiGHS 1.10.0: optimal solution; objective 325485\n",
            "20 simplex iterations\n",
            "0 barrier iterations\n"
          ]
        }
      ]
    },
    {
      "cell_type": "code",
      "source": [
        "# Mostrar el costo total óptimo\n",
        "print(f\"Costo Total Óptimo: {ampl.get_objective('CostoTotal').value()}\")\n",
        "\n",
        "# Mostrar los volúmenes enviados desde las plantas a los centros de distribución\n",
        "print(\"\\nVolúmenes enviados desde Plantas a Centros de Distribución (X[p, d, k]):\")\n",
        "for p in ampl.get_set('P').members():\n",
        "    for d in ampl.get_set('D').members():\n",
        "        for k in ampl.get_set('K').members():\n",
        "            # Mostrar solo valores significativos, no valores cercanos a cero\n",
        "            if ampl.get_variable('X')[p, d, k].value() > 1e-6:\n",
        "                print(f\"X[{p},{d},{k}] = {ampl.get_variable('X')[p, d, k].value()}\")\n",
        "\n",
        "# Mostrar los volúmenes enviados desde los centros de distribución a las regiones\n",
        "print(\"\\nVolúmenes enviados desde Centros de Distribución a Regiones (Y[d, r, k]):\")\n",
        "for d in ampl.get_set('D').members():\n",
        "    for r in ampl.get_set('R').members():\n",
        "        for k in ampl.get_set('K').members():\n",
        "            # Mostrar solo valores significativos, no valores cercanos a cero\n",
        "            if ampl.get_variable('Y')[d, r, k].value() > 1e-6:\n",
        "                print(f\"Y[{d},{r},{k}] = {ampl.get_variable('Y')[d, r, k].value()}\")"
      ],
      "metadata": {
        "colab": {
          "base_uri": "https://localhost:8080/"
        },
        "id": "bTRb4LiS64WO",
        "outputId": "dd71207e-74ad-4789-d4d8-308c9aa38604"
      },
      "execution_count": 206,
      "outputs": [
        {
          "output_type": "stream",
          "name": "stdout",
          "text": [
            "Costo Total Óptimo: 325485.0\n",
            "\n",
            "Volúmenes enviados desde Plantas a Centros de Distribución (X[p, d, k]):\n",
            "X[P1,D1,g] = 100.0\n",
            "X[P1,D3,g] = 600.0\n",
            "X[P1,D3,s] = 150.0\n",
            "X[P2,D1,g] = 800.0\n",
            "X[P2,D1,s] = 600.0\n",
            "\n",
            "Volúmenes enviados desde Centros de Distribución a Regiones (Y[d, r, k]):\n",
            "Y[D1,R1,s] = 150.0\n",
            "Y[D1,R2,g] = 300.0\n",
            "Y[D1,R2,s] = 200.0\n",
            "Y[D1,R3,g] = 600.0\n",
            "Y[D1,R3,s] = 250.0\n",
            "Y[D3,R1,g] = 500.0\n",
            "Y[D3,R1,s] = 150.0\n",
            "Y[D3,R2,g] = 100.0\n"
          ]
        }
      ]
    }
  ],
  "metadata": {
    "colab": {
      "provenance": [],
      "include_colab_link": true
    },
    "kernelspec": {
      "display_name": "Python 3",
      "language": "python",
      "name": "python3"
    },
    "language_info": {
      "codemirror_mode": {
        "name": "ipython",
        "version": 3
      },
      "file_extension": ".py",
      "mimetype": "text/x-python",
      "name": "python",
      "nbconvert_exporter": "python",
      "pygments_lexer": "ipython3",
      "version": "3.9.13"
    },
    "vscode": {
      "interpreter": {
        "hash": "24209f11fee719204716071d008026089e3b3353af3d540e4dfc4f270a7a7039"
      }
    }
  },
  "nbformat": 4,
  "nbformat_minor": 0
}